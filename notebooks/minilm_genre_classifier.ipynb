{
 "cells": [
  {
   "cell_type": "markdown",
   "id": "6f5cbd8b",
   "metadata": {},
   "source": [
    "# 🎬 Movie Genre Classification with MiniLM + Logistic Regression"
   ]
  },
  {
   "cell_type": "markdown",
   "id": "fd7fc7a1",
   "metadata": {},
   "source": [
    "### Step 1: Load Libraries"
   ]
  },
  {
   "cell_type": "code",
   "execution_count": null,
   "id": "d5d925b9",
   "metadata": {},
   "outputs": [],
   "source": [
    "import pandas as pd\n",
    "import numpy as np\n",
    "import torch\n",
    "from transformers import AutoTokenizer, AutoModel\n",
    "from sklearn.linear_model import LogisticRegression\n",
    "from sklearn.preprocessing import LabelEncoder\n",
    "from sklearn.metrics import ConfusionMatrixDisplay\n",
    "from sklearn.model_selection import train_test_split\n",
    "import matplotlib.pyplot as plt\n",
    "from tqdm import tqdm\n",
    "tqdm.pandas()"
   ]
  },
  {
   "cell_type": "markdown",
   "id": "0ab73f21",
   "metadata": {},
   "source": [
    "### Step 2: Load and Explore the Dataset"
   ]
  },
  {
   "cell_type": "code",
   "execution_count": null,
   "id": "be90b173",
   "metadata": {},
   "outputs": [],
   "source": [
    "df = pd.read_csv(\"tmdb_5000_movies.csv\")\n",
    "df = df[['title', 'overview', 'genres']]\n",
    "df = df.dropna()\n",
    "\n",
    "# Parse the genres column\n",
    "import ast\n",
    "df['genres'] = df['genres'].apply(lambda x: ast.literal_eval(x)[0]['name'] if ast.literal_eval(x) else None)\n",
    "df = df.dropna()\n",
    "\n",
    "df = df.rename(columns={\"overview\": \"plot\", \"genres\": \"genre\"})\n",
    "df = df[['title', 'plot', 'genre']]\n",
    "df.head()"
   ]
  },
  {
   "cell_type": "markdown",
   "id": "fd9bfa1d",
   "metadata": {},
   "source": [
    "### Step 3: Limit to 500 Movies for Training"
   ]
  },
  {
   "cell_type": "code",
   "execution_count": null,
   "id": "4eb1173d",
   "metadata": {},
   "outputs": [],
   "source": [
    "df = df.sample(n=500, random_state=42).reset_index(drop=True)"
   ]
  },
  {
   "cell_type": "markdown",
   "id": "0327676e",
   "metadata": {},
   "source": [
    "### Step 4: Load MiniLM Model and Tokenizer"
   ]
  },
  {
   "cell_type": "code",
   "execution_count": null,
   "id": "1098054c",
   "metadata": {},
   "outputs": [],
   "source": [
    "tokenizer = AutoTokenizer.from_pretrained(\"sentence-transformers/all-MiniLM-L6-v2\")\n",
    "model = AutoModel.from_pretrained(\"sentence-transformers/all-MiniLM-L6-v2\")"
   ]
  },
  {
   "cell_type": "markdown",
   "id": "38891ae5",
   "metadata": {},
   "source": [
    "### Step 5: Turn Plots into Vectors (Embeddings)"
   ]
  },
  {
   "cell_type": "code",
   "execution_count": null,
   "id": "55862958",
   "metadata": {},
   "outputs": [],
   "source": [
    "def get_embedding(text):\n",
    "    inputs = tokenizer(text, return_tensors='pt', truncation=True, padding=True)\n",
    "    with torch.no_grad():\n",
    "        outputs = model(**inputs)\n",
    "        return outputs.last_hidden_state[:, 0, :].squeeze().numpy()\n",
    "\n",
    "df['embedding'] = df['plot'].progress_apply(get_embedding)"
   ]
  },
  {
   "cell_type": "markdown",
   "id": "f5ce9360",
   "metadata": {},
   "source": [
    "### Step 6: Train the Logistic Regression Model"
   ]
  },
  {
   "cell_type": "code",
   "execution_count": null,
   "id": "3eb60ca9",
   "metadata": {},
   "outputs": [],
   "source": [
    "X = np.stack(df['embedding'].values)\n",
    "y = df['genre']\n",
    "\n",
    "encoder = LabelEncoder()\n",
    "y_encoded = encoder.fit_transform(y)\n",
    "\n",
    "X_train, X_test, y_train, y_test = train_test_split(\n",
    "    X, y_encoded, test_size=0.3, stratify=y_encoded, random_state=42\n",
    ")\n",
    "\n",
    "model = LogisticRegression(max_iter=2000)\n",
    "model.fit(X_train, y_train)"
   ]
  },
  {
   "cell_type": "markdown",
   "id": "6a2c61ea",
   "metadata": {},
   "source": [
    "### Step 7: Plot the Confusion Matrix"
   ]
  },
  {
   "cell_type": "code",
   "execution_count": null,
   "id": "2a8c8940",
   "metadata": {},
   "outputs": [],
   "source": [
    "ConfusionMatrixDisplay.from_predictions(\n",
    "    y_true=y_test,\n",
    "    y_pred=model.predict(X_test),\n",
    "    display_labels=encoder.classes_,\n",
    "    cmap='Blues',\n",
    "    xticks_rotation=45\n",
    ")\n",
    "plt.title(\"MiniLM + Logistic Regression Genre Confusion Matrix\")\n",
    "plt.tight_layout()\n",
    "plt.show()"
   ]
  },
  {
   "cell_type": "markdown",
   "id": "5e1c2f8f",
   "metadata": {},
   "source": [
    "### Step 8: Try Predicting Your Own Movie Plot!"
   ]
  },
  {
   "cell_type": "code",
   "execution_count": null,
   "id": "e826143a",
   "metadata": {},
   "outputs": [],
   "source": [
    "plot = input(\"🎬 Describe your movie plot: \")\n",
    "embedding = get_embedding(plot)\n",
    "prediction = encoder.inverse_transform(model.predict([embedding]))[0]\n",
    "print(\"📢 Predicted Genre:\", prediction)"
   ]
  }
 ],
 "metadata": {},
 "nbformat": 4,
 "nbformat_minor": 5
}
