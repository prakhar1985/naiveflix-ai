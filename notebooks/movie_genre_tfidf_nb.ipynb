# Movie Genre Classification using TF-IDF and Naive Bayes
# Author: prakhar1985

# Step 1: Import libraries
import pandas as pd
from sklearn.feature_extraction.text import TfidfVectorizer
from sklearn.preprocessing import LabelEncoder
from sklearn.model_selection import train_test_split
from sklearn.naive_bayes import MultinomialNB
from sklearn.metrics import ConfusionMatrixDisplay
import matplotlib.pyplot as plt
import numpy as np

# Step 2: Create a dataset
data = {
    'title': [
        'The Dark Knight', 'Finding Nemo', 'Interstellar', 'Pride and Prejudice',
        'The Conjuring', 'Titanic', 'Frozen', 'John Wick',
        'Up', 'The Notebook', 'Inception', 'Toy Story',
        'It', 'Avengers: Endgame', 'The Matrix'
    ],
    'plot': [
        'Bruce Wayne fights crime in Gotham as Batman',
        'A clownfish father searches the ocean to find his lost son',
        'A team travels through a wormhole to find a new home for humanity',
        'A young woman navigates love and social expectations in 19th century England',
        'Paranormal investigators help a haunted family overcome a demonic spirit',
        'A romance blossoms aboard the doomed Titanic ship',
        'A magical girl accidentally traps her kingdom in eternal winter',
        'A retired assassin seeks revenge on those who wronged him',
        'An old man flies his house to South America with a young boy',
        'A couple falls in love but are torn apart by fate and time',
        'A thief steals dreams to plant ideas in people’s minds',
        'Toys come to life and go on a rescue mission',
        'A demonic clown terrorizes a group of children in a small town',
        'Superheroes unite to save the world from destruction',
        'A man discovers the truth about reality and fights a computer system'
    ],
    'genre': [
        'Action', 'Animation', 'Sci-Fi', 'Romance',
        'Horror', 'Romance', 'Animation', 'Action',
        'Animation', 'Romance', 'Sci-Fi', 'Animation',
        'Horror', 'Action', 'Sci-Fi'
    ]
}

df = pd.DataFrame(data)
plots = df['plot'].values
genres = df['genre'].values

# Step 3: Convert plots to numerical features using TF-IDF
vectorizer = TfidfVectorizer()
X = vectorizer.fit_transform(plots)

# Step 4: Encode genres into numbers
encoder = LabelEncoder()
y = encoder.fit_transform(genres)

# Step 5: Train a Naive Bayes model
X_train, X_test, y_train, y_test = train_test_split(
    X, y, test_size=0.3, stratify=y, random_state=42
)

model = MultinomialNB()
model.fit(X_train, y_train)
y_pred = model.predict(X_test)

# Step 6: Plot confusion matrix
labels = encoder.classes_
ConfusionMatrixDisplay.from_predictions(
    y_true=y_test,
    y_pred=y_pred,
    display_labels=labels,
    cmap='Blues'
)
plt.title("TF-IDF + Naive Bayes - Genre Confusion Matrix")
plt.show()

# Step 7: Genre prediction mini app
plot = input("🎬 Describe your movie plot: ")
X_new = vectorizer.transform([plot])
genre = encoder.inverse_transform(model.predict(X_new))[0]
print("📢 Predicted Genre:", genre)

